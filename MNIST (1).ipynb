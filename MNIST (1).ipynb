{
  "nbformat": 4,
  "nbformat_minor": 0,
  "metadata": {
    "colab": {
      "name": "MNIST.ipynb",
      "provenance": [],
      "collapsed_sections": []
    },
    "kernelspec": {
      "name": "python3",
      "display_name": "Python 3"
    }
  },
  "cells": [
    {
      "cell_type": "code",
      "metadata": {
        "id": "yN4ybUXFYW0E",
        "colab_type": "code",
        "colab": {
          "base_uri": "https://localhost:8080/",
          "height": 35
        },
        "outputId": "28e8e691-f82a-4ce7-bdad-cd19472a1f60"
      },
      "source": [
        "import  tensorflow as tf\n",
        "tf.__version__"
      ],
      "execution_count": 1,
      "outputs": [
        {
          "output_type": "execute_result",
          "data": {
            "application/vnd.google.colaboratory.intrinsic+json": {
              "type": "string"
            },
            "text/plain": [
              "'2.3.0'"
            ]
          },
          "metadata": {
            "tags": []
          },
          "execution_count": 1
        }
      ]
    },
    {
      "cell_type": "code",
      "metadata": {
        "id": "r7ttQknOWl6e",
        "colab_type": "code",
        "colab": {
          "base_uri": "https://localhost:8080/",
          "height": 221
        },
        "outputId": "2cf85d85-a403-4e01-d6a0-c580a48279de"
      },
      "source": [
        "mnist = tf.keras.datasets.mnist\n",
        "(x_train,y_train),(x_test,y_test) = mnist.load_data()\n",
        " \n",
        "#x_train = tf.keras.utils.normalize(x_train, axis=1)\n",
        "#x_test = tf.keras.utils.normalize(x_test, axis=1)\n",
        " \n",
        "model = tf.keras.models.Sequential()\n",
        "model.add(tf.keras.layers.Flatten())\n",
        "model.add(tf.keras.layers.Dense(512, activation='relu'))\n",
        "model.add(tf.keras.layers.Dense(10, activation='softmax'))\n",
        " \n",
        "model.compile(optimizer='adam',loss= 'sparse_categorical_crossentropy',metrics= 'accuracy')\n",
        "history = model.fit(x_train, y_train, epochs = 5)"
      ],
      "execution_count": 2,
      "outputs": [
        {
          "output_type": "stream",
          "text": [
            "Downloading data from https://storage.googleapis.com/tensorflow/tf-keras-datasets/mnist.npz\n",
            "11493376/11490434 [==============================] - 0s 0us/step\n",
            "Epoch 1/5\n",
            "1875/1875 [==============================] - 8s 4ms/step - loss: 2.6273 - accuracy: 0.9068\n",
            "Epoch 2/5\n",
            "1875/1875 [==============================] - 8s 4ms/step - loss: 0.3397 - accuracy: 0.9370\n",
            "Epoch 3/5\n",
            "1875/1875 [==============================] - 8s 4ms/step - loss: 0.3030 - accuracy: 0.9397\n",
            "Epoch 4/5\n",
            "1875/1875 [==============================] - 8s 4ms/step - loss: 0.2764 - accuracy: 0.9461\n",
            "Epoch 5/5\n",
            "1875/1875 [==============================] - 8s 4ms/step - loss: 0.2715 - accuracy: 0.9488\n"
          ],
          "name": "stdout"
        }
      ]
    },
    {
      "cell_type": "code",
      "metadata": {
        "id": "mM6TKh2pn-dn",
        "colab_type": "code",
        "colab": {
          "base_uri": "https://localhost:8080/",
          "height": 34
        },
        "outputId": "a4f5a893-e3fa-4d4b-cdaf-948ffcbe82bd"
      },
      "source": [
        "x_train.shape"
      ],
      "execution_count": 3,
      "outputs": [
        {
          "output_type": "execute_result",
          "data": {
            "text/plain": [
              "(60000, 28, 28)"
            ]
          },
          "metadata": {
            "tags": []
          },
          "execution_count": 3
        }
      ]
    },
    {
      "cell_type": "code",
      "metadata": {
        "id": "xaHR9Rv1n9uj",
        "colab_type": "code",
        "colab": {
          "base_uri": "https://localhost:8080/",
          "height": 34
        },
        "outputId": "d2f35432-fa6b-4b1c-b195-4ee78fca4993"
      },
      "source": [
        "x_test.shape"
      ],
      "execution_count": 4,
      "outputs": [
        {
          "output_type": "execute_result",
          "data": {
            "text/plain": [
              "(10000, 28, 28)"
            ]
          },
          "metadata": {
            "tags": []
          },
          "execution_count": 4
        }
      ]
    },
    {
      "cell_type": "code",
      "metadata": {
        "id": "v8pGYdfKoNd2",
        "colab_type": "code",
        "colab": {
          "base_uri": "https://localhost:8080/",
          "height": 34
        },
        "outputId": "de3840e1-f7ec-4b5a-8408-2192015b7fcb"
      },
      "source": [
        "y_train[7]"
      ],
      "execution_count": 5,
      "outputs": [
        {
          "output_type": "execute_result",
          "data": {
            "text/plain": [
              "3"
            ]
          },
          "metadata": {
            "tags": []
          },
          "execution_count": 5
        }
      ]
    },
    {
      "cell_type": "code",
      "metadata": {
        "id": "W_llwLr2oMwk",
        "colab_type": "code",
        "colab": {
          "base_uri": "https://localhost:8080/",
          "height": 1000
        },
        "outputId": "0f1a55f1-9b5a-4af6-a69a-ae70b2e976d5"
      },
      "source": [
        "x_train[7]"
      ],
      "execution_count": 6,
      "outputs": [
        {
          "output_type": "execute_result",
          "data": {
            "text/plain": [
              "array([[  0,   0,   0,   0,   0,   0,   0,   0,   0,   0,   0,   0,   0,\n",
              "          0,   0,   0,   0,   0,   0,   0,   0,   0,   0,   0,   0,   0,\n",
              "          0,   0],\n",
              "       [  0,   0,   0,   0,   0,   0,   0,   0,   0,   0,   0,   0,   0,\n",
              "          0,   0,   0,   0,   0,   0,   0,   0,   0,   0,   0,   0,   0,\n",
              "          0,   0],\n",
              "       [  0,   0,   0,   0,   0,   0,   0,   0,   0,   0,   0,   0,   0,\n",
              "          0,   0,   0,   0,   0,   0,   0,   0,   0,   0,   0,   0,   0,\n",
              "          0,   0],\n",
              "       [  0,   0,   0,   0,   0,   0,   0,   0,   0,   0,   0,   0,   0,\n",
              "          0,   0,   0,   0,   0,   0,   0,   0,   0,   0,   0,   0,   0,\n",
              "          0,   0],\n",
              "       [  0,   0,   0,   0,   0,   0,   0,   0,   0,   0,   0,   0,   0,\n",
              "          0,   0,   0,   0,   0,   0,   0,   0,   0,   0,   0,   0,   0,\n",
              "          0,   0],\n",
              "       [  0,   0,   0,   0,   0,   0,   0,   0,   0,   0,   0,  38,  43,\n",
              "        105, 255, 253, 253, 253, 253, 253, 174,   6,   0,   0,   0,   0,\n",
              "          0,   0],\n",
              "       [  0,   0,   0,   0,   0,   0,   0,   0,   0,  43, 139, 224, 226,\n",
              "        252, 253, 252, 252, 252, 252, 252, 252, 158,  14,   0,   0,   0,\n",
              "          0,   0],\n",
              "       [  0,   0,   0,   0,   0,   0,   0,   0,   0, 178, 252, 252, 252,\n",
              "        252, 253, 252, 252, 252, 252, 252, 252, 252,  59,   0,   0,   0,\n",
              "          0,   0],\n",
              "       [  0,   0,   0,   0,   0,   0,   0,   0,   0, 109, 252, 252, 230,\n",
              "        132, 133, 132, 132, 189, 252, 252, 252, 252,  59,   0,   0,   0,\n",
              "          0,   0],\n",
              "       [  0,   0,   0,   0,   0,   0,   0,   0,   0,   4,  29,  29,  24,\n",
              "          0,   0,   0,   0,  14, 226, 252, 252, 172,   7,   0,   0,   0,\n",
              "          0,   0],\n",
              "       [  0,   0,   0,   0,   0,   0,   0,   0,   0,   0,   0,   0,   0,\n",
              "          0,   0,   0,   0,  85, 243, 252, 252, 144,   0,   0,   0,   0,\n",
              "          0,   0],\n",
              "       [  0,   0,   0,   0,   0,   0,   0,   0,   0,   0,   0,   0,   0,\n",
              "          0,   0,   0,  88, 189, 252, 252, 252,  14,   0,   0,   0,   0,\n",
              "          0,   0],\n",
              "       [  0,   0,   0,   0,   0,   0,   0,   0,   0,   0,   0,   0,   0,\n",
              "          0,  91, 212, 247, 252, 252, 252, 204,   9,   0,   0,   0,   0,\n",
              "          0,   0],\n",
              "       [  0,   0,   0,   0,   0,   0,   0,   0,   0,  32, 125, 193, 193,\n",
              "        193, 253, 252, 252, 252, 238, 102,  28,   0,   0,   0,   0,   0,\n",
              "          0,   0],\n",
              "       [  0,   0,   0,   0,   0,   0,   0,   0,  45, 222, 252, 252, 252,\n",
              "        252, 253, 252, 252, 252, 177,   0,   0,   0,   0,   0,   0,   0,\n",
              "          0,   0],\n",
              "       [  0,   0,   0,   0,   0,   0,   0,   0,  45, 223, 253, 253, 253,\n",
              "        253, 255, 253, 253, 253, 253,  74,   0,   0,   0,   0,   0,   0,\n",
              "          0,   0],\n",
              "       [  0,   0,   0,   0,   0,   0,   0,   0,   0,  31, 123,  52,  44,\n",
              "         44,  44,  44, 143, 252, 252,  74,   0,   0,   0,   0,   0,   0,\n",
              "          0,   0],\n",
              "       [  0,   0,   0,   0,   0,   0,   0,   0,   0,   0,   0,   0,   0,\n",
              "          0,   0,   0,  15, 252, 252,  74,   0,   0,   0,   0,   0,   0,\n",
              "          0,   0],\n",
              "       [  0,   0,   0,   0,   0,   0,   0,   0,   0,   0,   0,   0,   0,\n",
              "          0,   0,   0,  86, 252, 252,  74,   0,   0,   0,   0,   0,   0,\n",
              "          0,   0],\n",
              "       [  0,   0,   0,   0,   0,   0,   5,  75,   9,   0,   0,   0,   0,\n",
              "          0,   0,  98, 242, 252, 252,  74,   0,   0,   0,   0,   0,   0,\n",
              "          0,   0],\n",
              "       [  0,   0,   0,   0,   0,  61, 183, 252,  29,   0,   0,   0,   0,\n",
              "         18,  92, 239, 252, 252, 243,  65,   0,   0,   0,   0,   0,   0,\n",
              "          0,   0],\n",
              "       [  0,   0,   0,   0,   0, 208, 252, 252, 147, 134, 134, 134, 134,\n",
              "        203, 253, 252, 252, 188,  83,   0,   0,   0,   0,   0,   0,   0,\n",
              "          0,   0],\n",
              "       [  0,   0,   0,   0,   0, 208, 252, 252, 252, 252, 252, 252, 252,\n",
              "        252, 253, 230, 153,   8,   0,   0,   0,   0,   0,   0,   0,   0,\n",
              "          0,   0],\n",
              "       [  0,   0,   0,   0,   0,  49, 157, 252, 252, 252, 252, 252, 217,\n",
              "        207, 146,  45,   0,   0,   0,   0,   0,   0,   0,   0,   0,   0,\n",
              "          0,   0],\n",
              "       [  0,   0,   0,   0,   0,   0,   7, 103, 235, 252, 172, 103,  24,\n",
              "          0,   0,   0,   0,   0,   0,   0,   0,   0,   0,   0,   0,   0,\n",
              "          0,   0],\n",
              "       [  0,   0,   0,   0,   0,   0,   0,   0,   0,   0,   0,   0,   0,\n",
              "          0,   0,   0,   0,   0,   0,   0,   0,   0,   0,   0,   0,   0,\n",
              "          0,   0],\n",
              "       [  0,   0,   0,   0,   0,   0,   0,   0,   0,   0,   0,   0,   0,\n",
              "          0,   0,   0,   0,   0,   0,   0,   0,   0,   0,   0,   0,   0,\n",
              "          0,   0],\n",
              "       [  0,   0,   0,   0,   0,   0,   0,   0,   0,   0,   0,   0,   0,\n",
              "          0,   0,   0,   0,   0,   0,   0,   0,   0,   0,   0,   0,   0,\n",
              "          0,   0]], dtype=uint8)"
            ]
          },
          "metadata": {
            "tags": []
          },
          "execution_count": 6
        }
      ]
    },
    {
      "cell_type": "code",
      "metadata": {
        "id": "3yAccM1Fd15_",
        "colab_type": "code",
        "colab": {
          "base_uri": "https://localhost:8080/",
          "height": 51
        },
        "outputId": "4307fd2e-e702-458b-8627-d23b81803551"
      },
      "source": [
        "val_loss, val_acc = model.evaluate(x_test, y_test)\n",
        "print(val_loss, val_acc)"
      ],
      "execution_count": 7,
      "outputs": [
        {
          "output_type": "stream",
          "text": [
            "313/313 [==============================] - 1s 2ms/step - loss: 0.3500 - accuracy: 0.9432\n",
            "0.35004937648773193 0.9431999921798706\n"
          ],
          "name": "stdout"
        }
      ]
    },
    {
      "cell_type": "code",
      "metadata": {
        "id": "3iTXkAN7X1zo",
        "colab_type": "code",
        "colab": {
          "base_uri": "https://localhost:8080/",
          "height": 1000
        },
        "outputId": "272d1fb1-9f72-4846-f7d6-f334fce7208f"
      },
      "source": [
        "import matplotlib.pyplot as plt\n",
        "\n",
        "plt.imshow(x_train[0], cmap = 'gray')\n",
        "plt.show()\n",
        "print(x_train[0])"
      ],
      "execution_count": 8,
      "outputs": [
        {
          "output_type": "display_data",
          "data": {
            "image/png": "[encoded data removed]",
            "text/plain": [
              "<Figure size 432x288 with 1 Axes>"
            ]
          },
          "metadata": {
            "tags": [],
            "needs_background": "light"
          }
        },
        {
          "output_type": "stream",
          "text": [
            "[[  0   0   0   0   0   0   0   0   0   0   0   0   0   0   0   0   0   0\n",
            "    0   0   0   0   0   0   0   0   0   0]\n",
            " [  0   0   0   0   0   0   0   0   0   0   0   0   0   0   0   0   0   0\n",
            "    0   0   0   0   0   0   0   0   0   0]\n",
            " [  0   0   0   0   0   0   0   0   0   0   0   0   0   0   0   0   0   0\n",
            "    0   0   0   0   0   0   0   0   0   0]\n",
            " [  0   0   0   0   0   0   0   0   0   0   0   0   0   0   0   0   0   0\n",
            "    0   0   0   0   0   0   0   0   0   0]\n",
            " [  0   0   0   0   0   0   0   0   0   0   0   0   0   0   0   0   0   0\n",
            "    0   0   0   0   0   0   0   0   0   0]\n",
            " [  0   0   0   0   0   0   0   0   0   0   0   0   3  18  18  18 126 136\n",
            "  175  26 166 255 247 127   0   0   0   0]\n",
            " [  0   0   0   0   0   0   0   0  30  36  94 154 170 253 253 253 253 253\n",
            "  225 172 253 242 195  64   0   0   0   0]\n",
            " [  0   0   0   0   0   0   0  49 238 253 253 253 253 253 253 253 253 251\n",
            "   93  82  82  56  39   0   0   0   0   0]\n",
            " [  0   0   0   0   0   0   0  18 219 253 253 253 253 253 198 182 247 241\n",
            "    0   0   0   0   0   0   0   0   0   0]\n",
            " [  0   0   0   0   0   0   0   0  80 156 107 253 253 205  11   0  43 154\n",
            "    0   0   0   0   0   0   0   0   0   0]\n",
            " [  0   0   0   0   0   0   0   0   0  14   1 154 253  90   0   0   0   0\n",
            "    0   0   0   0   0   0   0   0   0   0]\n",
            " [  0   0   0   0   0   0   0   0   0   0   0 139 253 190   2   0   0   0\n",
            "    0   0   0   0   0   0   0   0   0   0]\n",
            " [  0   0   0   0   0   0   0   0   0   0   0  11 190 253  70   0   0   0\n",
            "    0   0   0   0   0   0   0   0   0   0]\n",
            " [  0   0   0   0   0   0   0   0   0   0   0   0  35 241 225 160 108   1\n",
            "    0   0   0   0   0   0   0   0   0   0]\n",
            " [  0   0   0   0   0   0   0   0   0   0   0   0   0  81 240 253 253 119\n",
            "   25   0   0   0   0   0   0   0   0   0]\n",
            " [  0   0   0   0   0   0   0   0   0   0   0   0   0   0  45 186 253 253\n",
            "  150  27   0   0   0   0   0   0   0   0]\n",
            " [  0   0   0   0   0   0   0   0   0   0   0   0   0   0   0  16  93 252\n",
            "  253 187   0   0   0   0   0   0   0   0]\n",
            " [  0   0   0   0   0   0   0   0   0   0   0   0   0   0   0   0   0 249\n",
            "  253 249  64   0   0   0   0   0   0   0]\n",
            " [  0   0   0   0   0   0   0   0   0   0   0   0   0   0  46 130 183 253\n",
            "  253 207   2   0   0   0   0   0   0   0]\n",
            " [  0   0   0   0   0   0   0   0   0   0   0   0  39 148 229 253 253 253\n",
            "  250 182   0   0   0   0   0   0   0   0]\n",
            " [  0   0   0   0   0   0   0   0   0   0  24 114 221 253 253 253 253 201\n",
            "   78   0   0   0   0   0   0   0   0   0]\n",
            " [  0   0   0   0   0   0   0   0  23  66 213 253 253 253 253 198  81   2\n",
            "    0   0   0   0   0   0   0   0   0   0]\n",
            " [  0   0   0   0   0   0  18 171 219 253 253 253 253 195  80   9   0   0\n",
            "    0   0   0   0   0   0   0   0   0   0]\n",
            " [  0   0   0   0  55 172 226 253 253 253 253 244 133  11   0   0   0   0\n",
            "    0   0   0   0   0   0   0   0   0   0]\n",
            " [  0   0   0   0 136 253 253 253 212 135 132  16   0   0   0   0   0   0\n",
            "    0   0   0   0   0   0   0   0   0   0]\n",
            " [  0   0   0   0   0   0   0   0   0   0   0   0   0   0   0   0   0   0\n",
            "    0   0   0   0   0   0   0   0   0   0]\n",
            " [  0   0   0   0   0   0   0   0   0   0   0   0   0   0   0   0   0   0\n",
            "    0   0   0   0   0   0   0   0   0   0]\n",
            " [  0   0   0   0   0   0   0   0   0   0   0   0   0   0   0   0   0   0\n",
            "    0   0   0   0   0   0   0   0   0   0]]\n"
          ],
          "name": "stdout"
        }
      ]
    },
    {
      "cell_type": "code",
      "metadata": {
        "id": "5l-4WDjPpIyX",
        "colab_type": "code",
        "colab": {
          "base_uri": "https://localhost:8080/",
          "height": 105
        },
        "outputId": "2955f3fc-8c65-452e-9b19-ed357e41d983"
      },
      "source": [
        "y_pred = model.predict_classes(x_test)\n",
        "y_pred"
      ],
      "execution_count": 9,
      "outputs": [
        {
          "output_type": "stream",
          "text": [
            "WARNING:tensorflow:From <ipython-input-9-41a58b04bb02>:1: Sequential.predict_classes (from tensorflow.python.keras.engine.sequential) is deprecated and will be removed after 2021-01-01.\n",
            "Instructions for updating:\n",
            "Please use instead:* `np.argmax(model.predict(x), axis=-1)`,   if your model does multi-class classification   (e.g. if it uses a `softmax` last-layer activation).* `(model.predict(x) > 0.5).astype(\"int32\")`,   if your model does binary classification   (e.g. if it uses a `sigmoid` last-layer activation).\n"
          ],
          "name": "stdout"
        },
        {
          "output_type": "execute_result",
          "data": {
            "text/plain": [
              "array([7, 2, 1, ..., 4, 5, 6])"
            ]
          },
          "metadata": {
            "tags": []
          },
          "execution_count": 9
        }
      ]
    },
    {
      "cell_type": "code",
      "metadata": {
        "id": "zMqLMUFupX6-",
        "colab_type": "code",
        "colab": {
          "base_uri": "https://localhost:8080/",
          "height": 34
        },
        "outputId": "806ee9e7-6f6d-4cce-f88b-e240f94b869f"
      },
      "source": [
        "y_pred[0]"
      ],
      "execution_count": 10,
      "outputs": [
        {
          "output_type": "execute_result",
          "data": {
            "text/plain": [
              "7"
            ]
          },
          "metadata": {
            "tags": []
          },
          "execution_count": 10
        }
      ]
    },
    {
      "cell_type": "code",
      "metadata": {
        "id": "7h5gpPCRYUz0",
        "colab_type": "code",
        "colab": {}
      },
      "source": [
        "model.save('model.h5')"
      ],
      "execution_count": 11,
      "outputs": []
    },
    {
      "cell_type": "code",
      "metadata": {
        "id": "yECj5EKBjY45",
        "colab_type": "code",
        "colab": {}
      },
      "source": [
        "m_new = tf.keras.models.load_model('model.h5')"
      ],
      "execution_count": 12,
      "outputs": []
    },
    {
      "cell_type": "code",
      "metadata": {
        "id": "uY6w_8jAjoYO",
        "colab_type": "code",
        "colab": {}
      },
      "source": [
        "predictions = m_new.predict([x_test])"
      ],
      "execution_count": 13,
      "outputs": []
    },
    {
      "cell_type": "code",
      "metadata": {
        "id": "UBkxV2R4j2H1",
        "colab_type": "code",
        "colab": {
          "base_uri": "https://localhost:8080/",
          "height": 238
        },
        "outputId": "8cd55790-efc8-40a3-9118-eea4bba3e72a"
      },
      "source": [
        "print(predictions)"
      ],
      "execution_count": 14,
      "outputs": [
        {
          "output_type": "stream",
          "text": [
            "[[1.5617882e-30 8.5402998e-27 1.7766372e-15 ... 1.0000000e+00\n",
            "  2.9797479e-23 3.6484549e-23]\n",
            " [9.9998726e-34 4.0068856e-18 1.0000000e+00 ... 6.4437240e-21\n",
            "  6.5779216e-26 0.0000000e+00]\n",
            " [1.4875489e-29 1.0000000e+00 2.7301251e-14 ... 2.5706735e-08\n",
            "  2.0969459e-16 5.4414489e-24]\n",
            " ...\n",
            " [3.0904192e-24 7.0106022e-12 1.4269827e-19 ... 3.9321286e-11\n",
            "  1.8680681e-15 2.0979294e-09]\n",
            " [1.2334603e-23 4.7938101e-38 0.0000000e+00 ... 1.2359952e-14\n",
            "  1.3396402e-10 3.5207174e-12]\n",
            " [2.6139532e-33 0.0000000e+00 1.6269350e-31 ... 4.2266642e-32\n",
            "  2.9662242e-19 1.1203441e-23]]\n"
          ],
          "name": "stdout"
        }
      ]
    },
    {
      "cell_type": "code",
      "metadata": {
        "id": "m55H4nabj5-s",
        "colab_type": "code",
        "colab": {
          "base_uri": "https://localhost:8080/",
          "height": 34
        },
        "outputId": "0d8311b3-c661-48a9-fcb2-cedbbe82197d"
      },
      "source": [
        "import numpy as np\n",
        "print(np.argmax(predictions[0]))"
      ],
      "execution_count": 15,
      "outputs": [
        {
          "output_type": "stream",
          "text": [
            "7\n"
          ],
          "name": "stdout"
        }
      ]
    },
    {
      "cell_type": "code",
      "metadata": {
        "id": "vpwX7_S0kOy8",
        "colab_type": "code",
        "colab": {
          "base_uri": "https://localhost:8080/",
          "height": 265
        },
        "outputId": "91702da5-330a-4932-a194-5bcb22f095a2"
      },
      "source": [
        "plt.imshow(x_test[0])\n",
        "plt.show()"
      ],
      "execution_count": 16,
      "outputs": [
        {
          "output_type": "display_data",
          "data": {
            "image/png": "[encoded data removed]",
            "text/plain": [
              "<Figure size 432x288 with 1 Axes>"
            ]
          },
          "metadata": {
            "tags": [],
            "needs_background": "light"
          }
        }
      ]
    },
    {
      "cell_type": "code",
      "metadata": {
        "id": "ZzDrEDIzpuXX",
        "colab_type": "code",
        "colab": {
          "base_uri": "https://localhost:8080/",
          "height": 34
        },
        "outputId": "78227fe7-e9f0-4f4b-999c-94ce0530ff38"
      },
      "source": [
        "np.argmax(y_pred[0])"
      ],
      "execution_count": 17,
      "outputs": [
        {
          "output_type": "execute_result",
          "data": {
            "text/plain": [
              "0"
            ]
          },
          "metadata": {
            "tags": []
          },
          "execution_count": 17
        }
      ]
    },
    {
      "cell_type": "code",
      "metadata": {
        "id": "b4ChREj6q2xh",
        "colab_type": "code",
        "colab": {
          "base_uri": "https://localhost:8080/",
          "height": 34
        },
        "outputId": "36f5df7a-a2f9-447b-8262-e15172b2ce61"
      },
      "source": [
        "np.argmax(model.predict(x_test), axis=-1)"
      ],
      "execution_count": 18,
      "outputs": [
        {
          "output_type": "execute_result",
          "data": {
            "text/plain": [
              "array([7, 2, 1, ..., 4, 5, 6])"
            ]
          },
          "metadata": {
            "tags": []
          },
          "execution_count": 18
        }
      ]
    },
    {
      "cell_type": "code",
      "metadata": {
        "id": "G9Qt9j2BkdWU",
        "colab_type": "code",
        "colab": {
          "base_uri": "https://localhost:8080/",
          "height": 34
        },
        "outputId": "50088c58-0616-4320-a7df-804fe6135558"
      },
      "source": [
        "print(np.argmax(predictions[4]))"
      ],
      "execution_count": 19,
      "outputs": [
        {
          "output_type": "stream",
          "text": [
            "4\n"
          ],
          "name": "stdout"
        }
      ]
    },
    {
      "cell_type": "code",
      "metadata": {
        "id": "GXrYD_kxm9GV",
        "colab_type": "code",
        "colab": {
          "base_uri": "https://localhost:8080/",
          "height": 265
        },
        "outputId": "251ff7d7-d163-4354-ef8f-004b6dad17fa"
      },
      "source": [
        "plt.imshow(x_test[4])\n",
        "plt.show()"
      ],
      "execution_count": 20,
      "outputs": [
        {
          "output_type": "display_data",
          "data": {
            "image/png": "[encoded data removed]",
            "text/plain": [
              "<Figure size 432x288 with 1 Axes>"
            ]
          },
          "metadata": {
            "tags": [],
            "needs_background": "light"
          }
        }
      ]
    },
    {
      "cell_type": "code",
      "metadata": {
        "id": "B_UWaHgQoY-C",
        "colab_type": "code",
        "colab": {
          "base_uri": "https://localhost:8080/",
          "height": 34
        },
        "outputId": "2660aad7-9d0c-4a2b-d65d-1ee93f0d5800"
      },
      "source": [
        "print(np.argmax(predictions[7]))"
      ],
      "execution_count": 21,
      "outputs": [
        {
          "output_type": "stream",
          "text": [
            "3\n"
          ],
          "name": "stdout"
        }
      ]
    },
    {
      "cell_type": "code",
      "metadata": {
        "id": "b9qNLRdbogXM",
        "colab_type": "code",
        "colab": {
          "base_uri": "https://localhost:8080/",
          "height": 265
        },
        "outputId": "08f3198b-dcc4-4526-ddeb-cf30863511db"
      },
      "source": [
        "plt.imshow(x_test[7])\n",
        "plt.show()"
      ],
      "execution_count": 22,
      "outputs": [
        {
          "output_type": "display_data",
          "data": {
            "image/png": "[encoded data removed]",
            "text/plain": [
              "<Figure size 432x288 with 1 Axes>"
            ]
          },
          "metadata": {
            "tags": [],
            "needs_background": "light"
          }
        }
      ]
    },
    {
      "cell_type": "code",
      "metadata": {
        "id": "Ir5j28YHok_N",
        "colab_type": "code",
        "colab": {
          "base_uri": "https://localhost:8080/",
          "height": 282
        },
        "outputId": "7b65d51d-641f-4b1f-977e-f6661c3b0ecb"
      },
      "source": [
        "print(np.argmax(predictions[2]))\n",
        "plt.imshow(x_test[2])\n",
        "plt.show()"
      ],
      "execution_count": 23,
      "outputs": [
        {
          "output_type": "stream",
          "text": [
            "1\n"
          ],
          "name": "stdout"
        },
        {
          "output_type": "display_data",
          "data": {
            "image/png": "[encoded data removed]",
            "text/plain": [
              "<Figure size 432x288 with 1 Axes>"
            ]
          },
          "metadata": {
            "tags": [],
            "needs_background": "light"
          }
        }
      ]
    },
    {
      "cell_type": "code",
      "metadata": {
        "id": "vbzonwNBo2K8",
        "colab_type": "code",
        "colab": {
          "base_uri": "https://localhost:8080/",
          "height": 282
        },
        "outputId": "500d498c-fc8b-48fb-826b-623bb78a8025"
      },
      "source": [
        "print(np.argmax(predictions[3]))\n",
        "plt.imshow(x_test[3])\n",
        "plt.show()"
      ],
      "execution_count": 24,
      "outputs": [
        {
          "output_type": "stream",
          "text": [
            "0\n"
          ],
          "name": "stdout"
        },
        {
          "output_type": "display_data",
          "data": {
            "image/png": "[encoded data removed]",
            "text/plain": [
              "<Figure size 432x288 with 1 Axes>"
            ]
          },
          "metadata": {
            "tags": [],
            "needs_background": "light"
          }
        }
      ]
    },
    {
      "cell_type": "code",
      "metadata": {
        "id": "fzPBkn_Mpgge",
        "colab_type": "code",
        "colab": {
          "base_uri": "https://localhost:8080/",
          "height": 34
        },
        "outputId": "e7f35da5-1d53-4518-990c-6033e02d5269"
      },
      "source": [
        "print(np.argmax(predictions))\n"
      ],
      "execution_count": 25,
      "outputs": [
        {
          "output_type": "stream",
          "text": [
            "7\n"
          ],
          "name": "stdout"
        }
      ]
    },
    {
      "cell_type": "code",
      "metadata": {
        "id": "BqzDtftVqDl8",
        "colab_type": "code",
        "colab": {
          "base_uri": "https://localhost:8080/",
          "height": 282
        },
        "outputId": "47270629-4596-487e-b750-b5753fbb6487"
      },
      "source": [
        "print(np.argmax(predictions[1]))\n",
        "plt.imshow(x_test[1])\n",
        "plt.show()"
      ],
      "execution_count": 26,
      "outputs": [
        {
          "output_type": "stream",
          "text": [
            "2\n"
          ],
          "name": "stdout"
        },
        {
          "output_type": "display_data",
          "data": {
            "image/png": "[encoded data removed]",
            "text/plain": [
              "<Figure size 432x288 with 1 Axes>"
            ]
          },
          "metadata": {
            "tags": [],
            "needs_background": "light"
          }
        }
      ]
    },
    {
      "cell_type": "code",
      "metadata": {
        "id": "6BXVpzhqTuc-",
        "colab_type": "code",
        "colab": {}
      },
      "source": [
        "# Evaluation\n",
        "from sklearn.metrics import accuracy_score,confusion_matrix"
      ],
      "execution_count": 27,
      "outputs": []
    },
    {
      "cell_type": "code",
      "metadata": {
        "id": "QPuTcrMwV-PJ",
        "colab_type": "code",
        "colab": {
          "base_uri": "https://localhost:8080/",
          "height": 34
        },
        "outputId": "12cbea6c-5d1f-43c2-b6be-6a62438f6999"
      },
      "source": [
        "accuracy_score(y_pred,y_test)"
      ],
      "execution_count": 28,
      "outputs": [
        {
          "output_type": "execute_result",
          "data": {
            "text/plain": [
              "0.9432"
            ]
          },
          "metadata": {
            "tags": []
          },
          "execution_count": 28
        }
      ]
    },
    {
      "cell_type": "code",
      "metadata": {
        "id": "y9O2nBquiB97",
        "colab_type": "code",
        "colab": {
          "base_uri": "https://localhost:8080/",
          "height": 187
        },
        "outputId": "468e1883-d55f-47cd-ae8c-ff7480b09d54"
      },
      "source": [
        "confusion_matrix(y_pred,y_test)"
      ],
      "execution_count": 29,
      "outputs": [
        {
          "output_type": "execute_result",
          "data": {
            "text/plain": [
              "array([[ 958,    0,    4,    1,    3,    4,   13,    1,    4,    8],\n",
              "       [   2, 1102,    4,    0,    4,    1,    3,    7,    2,    5],\n",
              "       [   1,    5,  983,   14,    6,    0,    1,   39,    7,    1],\n",
              "       [   1,    2,    3,  964,    0,   56,    0,   16,   15,   16],\n",
              "       [   0,    3,    0,    0,  925,    0,    3,    1,   10,   24],\n",
              "       [   1,    2,    0,    9,    0,  800,    8,    1,    8,   10],\n",
              "       [   9,    1,    4,    0,    5,    8,  924,    0,    1,    0],\n",
              "       [   1,    0,    6,    2,    5,    1,    0,  938,    1,    4],\n",
              "       [   7,   20,   27,   17,   10,   18,    6,    9,  921,   24],\n",
              "       [   0,    0,    1,    3,   24,    4,    0,   16,    5,  917]])"
            ]
          },
          "metadata": {
            "tags": []
          },
          "execution_count": 29
        }
      ]
    },
    {
      "cell_type": "code",
      "metadata": {
        "id": "XLz7CDdmrXSC",
        "colab_type": "code",
        "colab": {
          "base_uri": "https://localhost:8080/",
          "height": 282
        },
        "outputId": "3e48ce2d-a58e-412e-9acc-76e3259a30a1"
      },
      "source": [
        "plt.plot(history.history['accuracy'])"
      ],
      "execution_count": 30,
      "outputs": [
        {
          "output_type": "execute_result",
          "data": {
            "text/plain": [
              "[<matplotlib.lines.Line2D at 0x7fe8402b72b0>]"
            ]
          },
          "metadata": {
            "tags": []
          },
          "execution_count": 30
        },
        {
          "output_type": "display_data",
          "data": {
            "image/png": "[encoded data removed]",
            "text/plain": [
              "<Figure size 432x288 with 1 Axes>"
            ]
          },
          "metadata": {
            "tags": [],
            "needs_background": "light"
          }
        }
      ]
    },
    {
      "cell_type": "code",
      "metadata": {
        "id": "dwtpomSCrczU",
        "colab_type": "code",
        "colab": {
          "base_uri": "https://localhost:8080/",
          "height": 1000
        },
        "outputId": "c447d952-c6e3-41ed-c3e8-4ae3e980a9f1"
      },
      "source": [
        "model.get_weights()"
      ],
      "execution_count": 31,
      "outputs": [
        {
          "output_type": "execute_result",
          "data": {
            "text/plain": [
              "[array([[-0.01759172, -0.0055614 ,  0.04124951, ..., -0.04874697,\n",
              "         -0.05486752, -0.05584573],\n",
              "        [ 0.0533021 ,  0.04842406, -0.02454967, ...,  0.05483259,\n",
              "         -0.04559964,  0.01344328],\n",
              "        [-0.06165507, -0.05929894,  0.0475714 , ..., -0.0548356 ,\n",
              "         -0.05707894, -0.0504575 ],\n",
              "        ...,\n",
              "        [-0.02500241,  0.03081682, -0.00250337, ..., -0.00349987,\n",
              "          0.00094638, -0.03639543],\n",
              "        [ 0.03683822,  0.06763488,  0.00065689, ..., -0.04682746,\n",
              "         -0.00565086,  0.05299934],\n",
              "        [ 0.03613961, -0.04836401, -0.05940525, ..., -0.00845604,\n",
              "          0.02379334, -0.05479562]], dtype=float32),\n",
              " array([-1.89913362e-02, -1.96989737e-02, -4.64847274e-02, -5.53176552e-02,\n",
              "        -1.05110491e-02, -1.47747677e-02, -2.14304011e-02, -2.71859430e-02,\n",
              "        -5.67956492e-02, -3.97214331e-02, -3.06349285e-02, -5.34790792e-02,\n",
              "        -2.75690705e-02, -2.15839483e-02, -6.41272292e-02, -2.42643364e-05,\n",
              "        -1.50473174e-02, -1.85542591e-02,  1.27469946e-03, -2.79594567e-02,\n",
              "        -3.55364345e-02, -4.78467420e-02, -3.98927666e-02, -3.07810642e-02,\n",
              "        -2.60125399e-02, -5.20188659e-02, -1.02031775e-01, -5.40991388e-02,\n",
              "        -2.58830395e-02, -5.33599965e-02, -3.19313109e-02, -3.13130245e-02,\n",
              "        -6.39712662e-02, -3.69353853e-02, -4.01921421e-02, -4.72481437e-02,\n",
              "        -5.51983714e-02, -1.53789548e-02, -3.76497060e-02, -1.60778929e-02,\n",
              "        -7.54660070e-02, -2.09737127e-03, -2.08737440e-02, -1.93510111e-02,\n",
              "        -3.48279364e-02, -8.80136248e-03, -3.07510681e-02, -1.58414841e-02,\n",
              "        -3.85598391e-02, -1.43310046e-02, -3.54866199e-02, -1.19261015e-02,\n",
              "        -5.85321821e-02, -1.12976180e-03, -3.78778130e-02, -3.06555536e-02,\n",
              "        -1.90819483e-02, -3.86377722e-02, -3.28161977e-02, -2.12163739e-02,\n",
              "        -4.55828682e-02, -2.16479655e-02, -2.69702598e-02, -2.77470276e-02,\n",
              "        -1.75529551e-02, -2.02851854e-02, -3.86416279e-02, -1.60643086e-02,\n",
              "        -3.49615589e-02, -2.58429945e-02, -1.96395684e-02, -2.54336279e-02,\n",
              "        -3.12551856e-02, -2.09761690e-02, -4.50568870e-02, -4.00046483e-02,\n",
              "        -9.75812301e-02, -2.32609380e-02, -4.28304896e-02, -2.00887043e-02,\n",
              "        -2.62995921e-02, -8.84424523e-03, -5.72755449e-02, -1.87498368e-02,\n",
              "        -1.66591946e-02, -1.37086799e-02, -4.34980802e-02, -4.91863601e-02,\n",
              "        -3.72562967e-02, -2.56532431e-02, -3.08369622e-02, -3.67629305e-02,\n",
              "        -2.76694987e-02, -2.02016756e-02, -6.60187751e-02, -2.81945094e-02,\n",
              "        -3.37517746e-02, -2.05504484e-02, -2.23791469e-02, -2.01013573e-02,\n",
              "        -2.78431699e-02, -2.95471493e-02, -2.78813001e-02, -2.73201987e-02,\n",
              "        -1.75946765e-02, -7.33168498e-02, -4.61343415e-02,  1.28709525e-02,\n",
              "        -4.53046970e-02, -3.66085991e-02, -1.38362292e-02, -3.65737751e-02,\n",
              "        -2.24177912e-02, -5.32630496e-02, -1.90789513e-02, -8.02409798e-02,\n",
              "        -6.98864534e-02, -2.67497413e-02, -4.37247716e-02, -4.90430631e-02,\n",
              "        -2.33910531e-02, -5.02032414e-02, -3.27194743e-02, -2.32331809e-02,\n",
              "        -2.85340380e-02, -7.53813609e-02, -5.44805750e-02, -3.70350964e-02,\n",
              "        -4.18409072e-02, -2.20649540e-02, -4.06016149e-02, -2.39437073e-02,\n",
              "        -1.38015570e-02, -2.34734956e-02, -3.48006636e-02, -2.50421613e-02,\n",
              "        -3.38418297e-02, -4.22720984e-02, -5.39765805e-02, -7.08685666e-02,\n",
              "        -6.02469444e-02, -5.99709190e-02, -3.31528969e-02, -5.50497212e-02,\n",
              "        -6.22347184e-02, -3.71268578e-02, -3.58045213e-02, -2.41590794e-02,\n",
              "        -2.26132870e-02, -1.67599954e-02, -2.01980099e-02, -3.43629867e-02,\n",
              "        -6.01456948e-02, -4.15329784e-02, -9.55526903e-02, -2.32024118e-02,\n",
              "        -7.96924829e-02, -2.12387089e-02, -4.37034741e-02, -5.34159243e-02,\n",
              "        -2.13838499e-02, -5.84232062e-02, -5.14676832e-02, -7.59877935e-02,\n",
              "        -4.19481657e-02, -1.01494798e-02, -2.37744860e-02, -9.62332729e-03,\n",
              "        -4.74621318e-02, -2.80221421e-02, -1.66658368e-02, -2.28256676e-02,\n",
              "        -7.64003769e-02, -6.24019131e-02, -2.42854152e-02, -4.30124216e-02,\n",
              "        -4.27999757e-02, -4.14078273e-02, -2.42568888e-02, -3.63058932e-02,\n",
              "        -2.40054987e-02, -4.92657349e-02, -2.14931294e-02, -3.01769655e-02,\n",
              "        -2.97449008e-02, -1.64731927e-02, -5.94452620e-02, -2.82303765e-02,\n",
              "        -2.00600363e-02, -2.95873377e-02, -4.99117039e-02, -4.04460169e-02,\n",
              "        -5.34864254e-02, -3.23458128e-02, -2.86046639e-02, -2.49198452e-02,\n",
              "        -2.33562887e-02, -2.13401001e-02, -7.53844082e-02, -2.79720444e-02,\n",
              "        -4.06287052e-02, -3.89465429e-02, -3.20454277e-02, -3.31703089e-02,\n",
              "        -2.47892700e-02, -5.63935488e-02, -2.23297346e-02, -4.12647165e-02,\n",
              "        -2.04229541e-02, -2.24924441e-02, -3.49732558e-03, -1.81218050e-02,\n",
              "        -3.61570716e-02, -4.95491400e-02, -3.84867676e-02, -2.21109223e-02,\n",
              "        -1.83222070e-02, -3.62547673e-02, -4.18615602e-02, -2.89955270e-02,\n",
              "        -4.25723046e-02, -1.32134650e-02, -1.36585170e-02, -5.90349510e-02,\n",
              "        -2.59557385e-02, -3.35085988e-02, -4.13548164e-02, -2.07979176e-02,\n",
              "        -4.18156050e-02, -6.04810826e-02, -4.62944098e-02, -2.64738332e-02,\n",
              "        -3.00765000e-02, -2.35585421e-02, -2.17956807e-02, -2.98969299e-02,\n",
              "        -4.17175889e-02, -4.30429652e-02, -5.36359325e-02, -3.76326591e-02,\n",
              "        -1.46712232e-02, -9.02486369e-02, -3.94448079e-02, -5.40032014e-02,\n",
              "        -6.76362216e-02, -2.02751867e-02, -4.41584364e-02, -3.79256196e-02,\n",
              "        -1.97171979e-02, -5.82991028e-03, -2.84589082e-02, -3.57402638e-02,\n",
              "        -3.42167951e-02, -4.20045145e-02, -2.93056555e-02, -2.98843775e-02,\n",
              "        -3.78741287e-02, -2.38639824e-02, -2.74348892e-02, -3.39922905e-02,\n",
              "        -2.24707816e-02, -5.12505025e-02, -3.46391462e-02, -6.13055155e-02,\n",
              "        -1.27208186e-02, -1.23280976e-02, -3.50928903e-02, -3.47202085e-02,\n",
              "        -5.05215898e-02, -1.40280332e-02, -2.35164594e-02, -3.33155803e-02,\n",
              "        -4.41657864e-02, -1.96417645e-02, -3.35696675e-02, -6.64524883e-02,\n",
              "        -3.43102776e-02, -3.94486971e-02, -2.89984643e-02, -5.09768277e-02,\n",
              "        -3.89484204e-02, -3.04053370e-02, -5.51442243e-02, -5.49242385e-02,\n",
              "        -4.52375114e-02, -6.94534034e-02, -2.69298330e-02, -5.01613170e-02,\n",
              "        -1.49267158e-02, -7.92121068e-02, -3.13713141e-02, -2.02562194e-02,\n",
              "        -4.64955345e-02, -1.89587586e-02, -5.84495142e-02, -9.70973540e-03,\n",
              "        -4.22466062e-02, -6.18203431e-02, -4.94758487e-02, -4.60590534e-02,\n",
              "        -3.82249877e-02, -5.28188273e-02, -1.89146809e-02, -2.61263717e-02,\n",
              "        -3.50640230e-02, -4.19643857e-02, -2.31744777e-02, -3.11013162e-02,\n",
              "        -3.97602059e-02, -5.02840243e-02, -2.12755036e-02, -4.51947190e-02,\n",
              "        -2.03227941e-02, -5.07575683e-02, -5.43415025e-02, -4.59577441e-02,\n",
              "        -3.35185640e-02, -2.97710467e-02, -2.08257549e-02, -5.51576875e-02,\n",
              "        -4.01600190e-02, -1.03807792e-01, -4.92103845e-02, -1.85423233e-02,\n",
              "        -3.15834209e-02, -2.17203554e-02, -6.36296421e-02, -4.84485663e-02,\n",
              "        -1.04890764e-02, -6.82022572e-02, -4.25810404e-02, -3.87359411e-02,\n",
              "        -3.94733921e-02, -5.24958409e-02, -6.82875887e-02, -1.39347138e-02,\n",
              "        -6.40790015e-02, -5.85448258e-02, -2.23158710e-02, -8.66539553e-02,\n",
              "        -2.47752219e-02, -2.95057129e-02, -4.15952615e-02, -6.54225573e-02,\n",
              "        -2.29550172e-02, -2.18540728e-02, -6.60578161e-02,  4.43316903e-03,\n",
              "        -8.28865469e-02, -7.25472579e-03, -4.44511101e-02, -3.18845585e-02,\n",
              "        -5.60076684e-02, -1.68800671e-02, -2.15222202e-02, -4.18777019e-02,\n",
              "        -1.57980286e-02, -3.83101441e-02, -4.05898355e-02, -1.24985181e-01,\n",
              "        -3.35601978e-02, -2.73370594e-02, -2.31177509e-02, -4.12300974e-02,\n",
              "        -6.71700155e-03, -3.73161510e-02, -6.85531422e-02, -1.97978690e-02,\n",
              "        -2.36840472e-02, -3.29253338e-02, -3.27891335e-02, -3.80533487e-02,\n",
              "        -5.05281985e-02, -4.17406820e-02, -2.66189910e-02, -3.49314958e-02,\n",
              "        -1.89009719e-02, -3.65182534e-02, -2.92250011e-02, -2.36510672e-02,\n",
              "        -2.53582913e-02, -3.79109010e-02,  1.57050006e-02, -5.85697442e-02,\n",
              "        -2.06040964e-02, -2.39432883e-02, -1.20308809e-02, -4.34494466e-02,\n",
              "        -7.40203261e-02, -3.67001304e-03, -1.74472462e-02, -1.46998977e-02,\n",
              "        -2.81711500e-02, -8.03039148e-02, -6.27236739e-02, -5.94463274e-02,\n",
              "        -2.74774358e-02, -1.19155934e-02, -5.39902225e-02, -3.17728892e-02,\n",
              "        -4.34478335e-02, -3.20073925e-02,  3.94218229e-03, -2.60133781e-02,\n",
              "        -2.63619367e-02, -2.65150890e-02, -4.22384590e-02, -3.17710564e-02,\n",
              "        -2.86911335e-02, -1.88982859e-02, -1.05076060e-02, -1.20708439e-02,\n",
              "        -3.06301396e-02, -2.50901040e-02, -3.10387835e-02, -5.47260121e-02,\n",
              "        -2.31639221e-02, -6.66576326e-02, -4.32076827e-02, -3.67974825e-02,\n",
              "        -4.15138267e-02, -2.23246720e-02, -1.10950852e-02, -2.00150460e-02,\n",
              "        -2.57715881e-02, -1.87893491e-02, -1.89416688e-02, -5.86635135e-02,\n",
              "        -3.55946161e-02, -2.33059842e-02, -4.52408977e-02, -5.57227209e-02,\n",
              "        -1.98232494e-02, -1.70753505e-02, -6.20461367e-02, -2.53662691e-02,\n",
              "        -2.59885341e-02, -1.11084007e-01, -2.73683630e-02, -2.13130955e-02,\n",
              "        -1.92095358e-02, -2.11741216e-02, -5.61693162e-02, -2.37993356e-02,\n",
              "        -1.55761896e-03, -5.24128154e-02, -5.42820198e-03, -2.73319781e-02,\n",
              "        -6.14353754e-02, -1.43456673e-02, -6.41283393e-02, -7.89881349e-02,\n",
              "        -3.32575105e-02, -2.20333692e-02, -4.32125926e-02, -4.33818847e-02,\n",
              "        -2.21296791e-02, -3.15685906e-02, -2.89955195e-02, -4.48853187e-02,\n",
              "        -2.96949577e-02, -1.11001506e-01, -4.50098664e-02, -3.62538286e-02,\n",
              "        -2.21302770e-02, -4.12627719e-02, -2.06452496e-02, -2.38089561e-02,\n",
              "        -9.07174312e-03, -5.51734455e-02, -2.42179334e-02, -3.55064683e-02,\n",
              "        -3.02673317e-02, -2.47701854e-02, -4.92237508e-02, -3.41038778e-02,\n",
              "        -3.16040851e-02, -6.27877787e-02, -4.39427979e-02, -2.14782357e-02,\n",
              "        -4.65096943e-02, -3.31094675e-02, -1.53639436e-01, -2.97721215e-02,\n",
              "        -3.02643254e-02, -5.41196726e-02, -3.92965078e-02, -4.66366261e-02,\n",
              "        -1.38012813e-02, -2.92061549e-02, -4.68170159e-02, -2.75313500e-02,\n",
              "        -7.21892118e-02, -2.28345450e-02, -2.66606212e-02, -2.07977574e-02,\n",
              "        -2.76565459e-02, -3.91926691e-02, -3.93739380e-02, -1.88636892e-02,\n",
              "        -4.04587239e-02, -5.36671653e-02, -2.88731400e-02, -8.63814428e-02,\n",
              "        -1.39916902e-02, -5.38733276e-03, -1.87427234e-02, -9.31895301e-02,\n",
              "        -2.29290128e-02, -3.14779133e-02, -5.72821200e-02, -2.90025324e-02],\n",
              "       dtype=float32),\n",
              " array([[ 0.05077947,  0.02981924,  0.04194055, ..., -0.05036189,\n",
              "          0.02311293, -0.03984343],\n",
              "        [ 0.06459324, -0.02686231, -0.08241602, ...,  0.01141037,\n",
              "          0.0084568 ,  0.05048895],\n",
              "        [-0.04303547, -0.03952105, -0.01828704, ..., -0.02501875,\n",
              "          0.04221295,  0.02110436],\n",
              "        ...,\n",
              "        [ 0.05325503, -0.05791854, -0.01653007, ...,  0.02207391,\n",
              "         -0.0352744 ,  0.02684994],\n",
              "        [-0.06722815,  0.06292554, -0.01352173, ...,  0.07397603,\n",
              "         -0.04707871,  0.0087464 ],\n",
              "        [-0.09389307, -0.03851606,  0.05920378, ..., -0.09811009,\n",
              "          0.03186263, -0.0888966 ]], dtype=float32),\n",
              " array([ 0.46457827, -0.4815984 ,  0.11361668, -0.05975943, -0.12472835,\n",
              "        -0.28537148,  0.03258324, -0.42555895,  0.551454  ,  0.06216802],\n",
              "       dtype=float32)]"
            ]
          },
          "metadata": {
            "tags": []
          },
          "execution_count": 31
        }
      ]
    },
    {
      "cell_type": "code",
      "metadata": {
        "id": "2AUNXsBTsBfU",
        "colab_type": "code",
        "colab": {
          "base_uri": "https://localhost:8080/",
          "height": 282
        },
        "outputId": "befef043-6909-4242-bffc-e402bce85527"
      },
      "source": [
        "image_test = x_test[2]\n",
        "plt.imshow(image_test)"
      ],
      "execution_count": 32,
      "outputs": [
        {
          "output_type": "execute_result",
          "data": {
            "text/plain": [
              "<matplotlib.image.AxesImage at 0x7fe8402352b0>"
            ]
          },
          "metadata": {
            "tags": []
          },
          "execution_count": 32
        },
        {
          "output_type": "display_data",
          "data": {
            "image/png": "[encoded data removed]",
            "text/plain": [
              "<Figure size 432x288 with 1 Axes>"
            ]
          },
          "metadata": {
            "tags": [],
            "needs_background": "light"
          }
        }
      ]
    },
    {
      "cell_type": "code",
      "metadata": {
        "id": "RaEESXwyspeH",
        "colab_type": "code",
        "colab": {}
      },
      "source": [
        "import cv2\n",
        "image_test_resize = cv2.resize(image_test,(28,28)).reshape(1,28,28)"
      ],
      "execution_count": 33,
      "outputs": []
    },
    {
      "cell_type": "code",
      "metadata": {
        "id": "9RliiFcWsv6O",
        "colab_type": "code",
        "colab": {
          "base_uri": "https://localhost:8080/",
          "height": 34
        },
        "outputId": "916a8b4b-5abd-47e8-987f-f3ae085ffaea"
      },
      "source": [
        "m_new.predict_classes(image_test_resize)"
      ],
      "execution_count": 34,
      "outputs": [
        {
          "output_type": "execute_result",
          "data": {
            "text/plain": [
              "array([1])"
            ]
          },
          "metadata": {
            "tags": []
          },
          "execution_count": 34
        }
      ]
    },
    {
      "cell_type": "code",
      "metadata": {
        "id": "l8LB7iOUsz4c",
        "colab_type": "code",
        "colab": {}
      },
      "source": [
        ""
      ],
      "execution_count": 34,
      "outputs": []
    }
  ]
}